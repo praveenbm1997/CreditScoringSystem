{
 "cells": [
  {
   "cell_type": "code",
   "execution_count": 1,
   "id": "c8a64a54-53b1-4d04-bf75-b3bcdbd6228d",
   "metadata": {},
   "outputs": [],
   "source": [
    "# To prevent the annoying warnings\n",
    "\n",
    "import warnings \n",
    "warnings.filterwarnings('ignore')"
   ]
  },
  {
   "cell_type": "code",
   "execution_count": 2,
   "id": "d53c0608-d45f-40b0-9a02-81ef2d000f1a",
   "metadata": {},
   "outputs": [],
   "source": [
    "import numpy as np\n",
    "import pandas as pd\n",
    "\n",
    "import matplotlib.pyplot as plt\n",
    "import seaborn as sns\n",
    "\n",
    "%matplotlib inline"
   ]
  },
  {
   "cell_type": "code",
   "execution_count": 3,
   "id": "a7fc9af2-3843-4a10-969c-cafa9cc7d1ee",
   "metadata": {},
   "outputs": [],
   "source": [
    "dataframe = pd.read_csv('Data/After_Feature_Engineering.csv')"
   ]
  },
  {
   "cell_type": "code",
   "execution_count": 4,
   "id": "de27ca4b-ab6e-4718-9fa4-7d3fb02289d8",
   "metadata": {},
   "outputs": [
    {
     "name": "stdout",
     "output_type": "stream",
     "text": [
      "<class 'pandas.core.frame.DataFrame'>\n",
      "RangeIndex: 97212 entries, 0 to 97211\n",
      "Data columns (total 60 columns):\n",
      " #   Column                                Non-Null Count  Dtype  \n",
      "---  ------                                --------------  -----  \n",
      " 0   Age                                   97212 non-null  float64\n",
      " 1   Annual_Income                         97212 non-null  float64\n",
      " 2   Monthly_Inhand_Salary                 97212 non-null  float64\n",
      " 3   Num_Bank_Accounts                     97212 non-null  float64\n",
      " 4   Num_Credit_Card                       97212 non-null  float64\n",
      " 5   Interest_Rate                         97212 non-null  float64\n",
      " 6   Num_of_Loan                           97212 non-null  float64\n",
      " 7   Delay_from_due_date                   97212 non-null  int64  \n",
      " 8   Num_of_Delayed_Payment                97212 non-null  float64\n",
      " 9   Changed_Credit_Limit                  97212 non-null  float64\n",
      " 10  Num_Credit_Inquiries                  97212 non-null  float64\n",
      " 11  Credit_Mix                            97212 non-null  float64\n",
      " 12  Outstanding_Debt                      97212 non-null  float64\n",
      " 13  Credit_Utilization_Ratio              97212 non-null  float64\n",
      " 14  Credit_History_Age                    97212 non-null  float64\n",
      " 15  Payment_of_Min_Amount                 97212 non-null  int64  \n",
      " 16  Total_EMI_per_month                   97212 non-null  float64\n",
      " 17  Amount_invested_monthly               97212 non-null  float64\n",
      " 18  Monthly_Balance                       97212 non-null  float64\n",
      " 19  Credit_Score                          97212 non-null  int64  \n",
      " 20  Month_April                           97212 non-null  bool   \n",
      " 21  Month_August                          97212 non-null  bool   \n",
      " 22  Month_February                        97212 non-null  bool   \n",
      " 23  Month_January                         97212 non-null  bool   \n",
      " 24  Month_July                            97212 non-null  bool   \n",
      " 25  Month_June                            97212 non-null  bool   \n",
      " 26  Month_March                           97212 non-null  bool   \n",
      " 27  Month_May                             97212 non-null  bool   \n",
      " 28  Occupation_Accountant                 97212 non-null  bool   \n",
      " 29  Occupation_Architect                  97212 non-null  bool   \n",
      " 30  Occupation_Developer                  97212 non-null  bool   \n",
      " 31  Occupation_Doctor                     97212 non-null  bool   \n",
      " 32  Occupation_Engineer                   97212 non-null  bool   \n",
      " 33  Occupation_Entrepreneur               97212 non-null  bool   \n",
      " 34  Occupation_Journalist                 97212 non-null  bool   \n",
      " 35  Occupation_Lawyer                     97212 non-null  bool   \n",
      " 36  Occupation_Manager                    97212 non-null  bool   \n",
      " 37  Occupation_Mechanic                   97212 non-null  bool   \n",
      " 38  Occupation_Media_Manager              97212 non-null  bool   \n",
      " 39  Occupation_Musician                   97212 non-null  bool   \n",
      " 40  Occupation_Not_Specified              97212 non-null  bool   \n",
      " 41  Occupation_Scientist                  97212 non-null  bool   \n",
      " 42  Occupation_Teacher                    97212 non-null  bool   \n",
      " 43  Occupation_Writer                     97212 non-null  bool   \n",
      " 44  Type_of_Loan_Credit-Builder Loan      97212 non-null  int64  \n",
      " 45  Type_of_Loan_Payday Loan              97212 non-null  int64  \n",
      " 46  Type_of_Loan_Debt Consolidation Loan  97212 non-null  int64  \n",
      " 47  Type_of_Loan_Mortgage Loan            97212 non-null  int64  \n",
      " 48  Type_of_Loan_Home Equity Loan         97212 non-null  int64  \n",
      " 49  Type_of_Loan_Student Loan             97212 non-null  int64  \n",
      " 50  Type_of_Loan_Personal Loan            97212 non-null  int64  \n",
      " 51  Type_of_Loan_Not Specified            97212 non-null  int64  \n",
      " 52  Type_of_Loan_Auto Loan                97212 non-null  int64  \n",
      " 53  PB_High_spent_Large_value_payments    97212 non-null  bool   \n",
      " 54  PB_High_spent_Medium_value_payments   97212 non-null  bool   \n",
      " 55  PB_High_spent_Small_value_payments    97212 non-null  bool   \n",
      " 56  PB_Low_spent_Large_value_payments     97212 non-null  bool   \n",
      " 57  PB_Low_spent_Medium_value_payments    97212 non-null  bool   \n",
      " 58  PB_Low_spent_Small_value_payments     97212 non-null  bool   \n",
      " 59  PB_Not_Specified                      97212 non-null  bool   \n",
      "dtypes: bool(31), float64(17), int64(12)\n",
      "memory usage: 24.4 MB\n"
     ]
    }
   ],
   "source": [
    "dataframe.info()"
   ]
  },
  {
   "cell_type": "code",
   "execution_count": 5,
   "id": "3cd7134c-0847-4ac7-abdb-8cfc0be83bda",
   "metadata": {},
   "outputs": [],
   "source": [
    "from sklearn.model_selection import train_test_split\n",
    "\n",
    "X = dataframe.drop(columns=['Credit_Score']).values\n",
    "y = dataframe['Credit_Score'].values\n",
    "\n",
    "X_train, X_test, y_train, y_test = train_test_split(X, y, test_size=0.35, random_state=101)"
   ]
  },
  {
   "cell_type": "code",
   "execution_count": 6,
   "id": "24c03283-8bf5-4664-8e6e-e1f6b08b65db",
   "metadata": {},
   "outputs": [],
   "source": [
    "from sklearn.ensemble import RandomForestClassifier\n",
    "\n",
    "model = RandomForestClassifier()\n",
    "\n",
    "model.fit(X_train, y_train)\n",
    "\n",
    "prediction = model.predict(X_test)"
   ]
  },
  {
   "cell_type": "code",
   "execution_count": 7,
   "id": "af84d6e4-6b0d-408a-977c-fafb7341b747",
   "metadata": {},
   "outputs": [
    {
     "name": "stdout",
     "output_type": "stream",
     "text": [
      "              precision    recall  f1-score   support\n",
      "\n",
      "           0       0.88      0.92      0.90     16663\n",
      "           1       0.83      0.79      0.81     11439\n",
      "           2       0.78      0.75      0.76      5923\n",
      "\n",
      "    accuracy                           0.84     34025\n",
      "   macro avg       0.83      0.82      0.82     34025\n",
      "weighted avg       0.84      0.84      0.84     34025\n",
      "\n"
     ]
    }
   ],
   "source": [
    "from sklearn.metrics import classification_report, confusion_matrix\n",
    "\n",
    "print(classification_report(y_test, prediction))"
   ]
  },
  {
   "cell_type": "code",
   "execution_count": 8,
   "id": "6ac93bc6-7512-421b-b189-e862f8d84392",
   "metadata": {},
   "outputs": [
    {
     "name": "stdout",
     "output_type": "stream",
     "text": [
      "[[15266   982   415]\n",
      " [ 1577  9038   824]\n",
      " [  597   890  4436]]\n"
     ]
    }
   ],
   "source": [
    "print(confusion_matrix(y_test, prediction))"
   ]
  },
  {
   "cell_type": "code",
   "execution_count": null,
   "id": "6659b5e8-6e12-40ae-bac2-82a7d81f4792",
   "metadata": {},
   "outputs": [],
   "source": []
  }
 ],
 "metadata": {
  "kernelspec": {
   "display_name": "Python 3 (ipykernel)",
   "language": "python",
   "name": "python3"
  },
  "language_info": {
   "codemirror_mode": {
    "name": "ipython",
    "version": 3
   },
   "file_extension": ".py",
   "mimetype": "text/x-python",
   "name": "python",
   "nbconvert_exporter": "python",
   "pygments_lexer": "ipython3",
   "version": "3.10.0"
  }
 },
 "nbformat": 4,
 "nbformat_minor": 5
}
