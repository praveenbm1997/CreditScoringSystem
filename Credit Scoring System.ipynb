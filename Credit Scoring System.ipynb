{
 "cells": [
  {
   "cell_type": "code",
   "execution_count": 1,
   "id": "7180d73b-31c4-4dbf-ad2f-bd8bd8152a44",
   "metadata": {},
   "outputs": [],
   "source": [
    "# To prevent the annoying warnings\n",
    "\n",
    "import warnings \n",
    "warnings.filterwarnings('ignore')"
   ]
  },
  {
   "cell_type": "code",
   "execution_count": 2,
   "id": "4227aa2e-7e00-466f-82f4-b251f85ef254",
   "metadata": {},
   "outputs": [],
   "source": [
    "import re\n",
    "import numpy as np\n",
    "import pandas as pd\n",
    "\n",
    "import matplotlib.pyplot as plt\n",
    "import seaborn as sns\n",
    "\n",
    "from sklearn.linear_model import LinearRegression\n",
    "\n",
    "%matplotlib inline"
   ]
  },
  {
   "cell_type": "code",
   "execution_count": 3,
   "id": "7d988543-e2eb-4ee3-9dd7-4367571b3c19",
   "metadata": {},
   "outputs": [],
   "source": [
    "dataframe = pd.read_csv('Data/Train_Test_Data_Credit_Scoring.csv')"
   ]
  },
  {
   "cell_type": "code",
   "execution_count": 4,
   "id": "c6b6b3b4-6285-4c00-8a68-109c6f71ac75",
   "metadata": {},
   "outputs": [
    {
     "name": "stdout",
     "output_type": "stream",
     "text": [
      "<class 'pandas.core.frame.DataFrame'>\n",
      "RangeIndex: 100000 entries, 0 to 99999\n",
      "Data columns (total 28 columns):\n",
      " #   Column                    Non-Null Count   Dtype  \n",
      "---  ------                    --------------   -----  \n",
      " 0   ID                        100000 non-null  object \n",
      " 1   Customer_ID               100000 non-null  object \n",
      " 2   Month                     100000 non-null  object \n",
      " 3   Name                      90015 non-null   object \n",
      " 4   Age                       100000 non-null  object \n",
      " 5   SSN                       100000 non-null  object \n",
      " 6   Occupation                100000 non-null  object \n",
      " 7   Annual_Income             100000 non-null  object \n",
      " 8   Monthly_Inhand_Salary     84998 non-null   float64\n",
      " 9   Num_Bank_Accounts         100000 non-null  int64  \n",
      " 10  Num_Credit_Card           100000 non-null  int64  \n",
      " 11  Interest_Rate             100000 non-null  int64  \n",
      " 12  Num_of_Loan               100000 non-null  object \n",
      " 13  Type_of_Loan              88592 non-null   object \n",
      " 14  Delay_from_due_date       100000 non-null  int64  \n",
      " 15  Num_of_Delayed_Payment    92998 non-null   object \n",
      " 16  Changed_Credit_Limit      100000 non-null  object \n",
      " 17  Num_Credit_Inquiries      98035 non-null   float64\n",
      " 18  Credit_Mix                100000 non-null  object \n",
      " 19  Outstanding_Debt          100000 non-null  object \n",
      " 20  Credit_Utilization_Ratio  100000 non-null  float64\n",
      " 21  Credit_History_Age        90970 non-null   object \n",
      " 22  Payment_of_Min_Amount     100000 non-null  object \n",
      " 23  Total_EMI_per_month       100000 non-null  float64\n",
      " 24  Amount_invested_monthly   95521 non-null   object \n",
      " 25  Payment_Behaviour         100000 non-null  object \n",
      " 26  Monthly_Balance           98800 non-null   object \n",
      " 27  Credit_Score              100000 non-null  object \n",
      "dtypes: float64(4), int64(4), object(20)\n",
      "memory usage: 21.4+ MB\n"
     ]
    }
   ],
   "source": [
    "dataframe.info()"
   ]
  },
  {
   "cell_type": "code",
   "execution_count": 5,
   "id": "a630fd99-3ac5-4f7d-9c58-c2456ad93c53",
   "metadata": {},
   "outputs": [
    {
     "data": {
      "text/html": [
       "<div>\n",
       "<style scoped>\n",
       "    .dataframe tbody tr th:only-of-type {\n",
       "        vertical-align: middle;\n",
       "    }\n",
       "\n",
       "    .dataframe tbody tr th {\n",
       "        vertical-align: top;\n",
       "    }\n",
       "\n",
       "    .dataframe thead th {\n",
       "        text-align: right;\n",
       "    }\n",
       "</style>\n",
       "<table border=\"1\" class=\"dataframe\">\n",
       "  <thead>\n",
       "    <tr style=\"text-align: right;\">\n",
       "      <th></th>\n",
       "      <th>Monthly_Inhand_Salary</th>\n",
       "      <th>Num_Bank_Accounts</th>\n",
       "      <th>Num_Credit_Card</th>\n",
       "      <th>Interest_Rate</th>\n",
       "      <th>Delay_from_due_date</th>\n",
       "      <th>Num_Credit_Inquiries</th>\n",
       "      <th>Credit_Utilization_Ratio</th>\n",
       "      <th>Total_EMI_per_month</th>\n",
       "    </tr>\n",
       "  </thead>\n",
       "  <tbody>\n",
       "    <tr>\n",
       "      <th>count</th>\n",
       "      <td>84998.000000</td>\n",
       "      <td>100000.000000</td>\n",
       "      <td>100000.00000</td>\n",
       "      <td>100000.000000</td>\n",
       "      <td>100000.000000</td>\n",
       "      <td>98035.000000</td>\n",
       "      <td>100000.000000</td>\n",
       "      <td>100000.000000</td>\n",
       "    </tr>\n",
       "    <tr>\n",
       "      <th>mean</th>\n",
       "      <td>4194.170850</td>\n",
       "      <td>17.091280</td>\n",
       "      <td>22.47443</td>\n",
       "      <td>72.466040</td>\n",
       "      <td>21.068780</td>\n",
       "      <td>27.754251</td>\n",
       "      <td>32.285173</td>\n",
       "      <td>1403.118217</td>\n",
       "    </tr>\n",
       "    <tr>\n",
       "      <th>std</th>\n",
       "      <td>3183.686167</td>\n",
       "      <td>117.404834</td>\n",
       "      <td>129.05741</td>\n",
       "      <td>466.422621</td>\n",
       "      <td>14.860104</td>\n",
       "      <td>193.177339</td>\n",
       "      <td>5.116875</td>\n",
       "      <td>8306.041270</td>\n",
       "    </tr>\n",
       "    <tr>\n",
       "      <th>min</th>\n",
       "      <td>303.645417</td>\n",
       "      <td>-1.000000</td>\n",
       "      <td>0.00000</td>\n",
       "      <td>1.000000</td>\n",
       "      <td>-5.000000</td>\n",
       "      <td>0.000000</td>\n",
       "      <td>20.000000</td>\n",
       "      <td>0.000000</td>\n",
       "    </tr>\n",
       "    <tr>\n",
       "      <th>25%</th>\n",
       "      <td>1625.568229</td>\n",
       "      <td>3.000000</td>\n",
       "      <td>4.00000</td>\n",
       "      <td>8.000000</td>\n",
       "      <td>10.000000</td>\n",
       "      <td>3.000000</td>\n",
       "      <td>28.052567</td>\n",
       "      <td>30.306660</td>\n",
       "    </tr>\n",
       "    <tr>\n",
       "      <th>50%</th>\n",
       "      <td>3093.745000</td>\n",
       "      <td>6.000000</td>\n",
       "      <td>5.00000</td>\n",
       "      <td>13.000000</td>\n",
       "      <td>18.000000</td>\n",
       "      <td>6.000000</td>\n",
       "      <td>32.305784</td>\n",
       "      <td>69.249473</td>\n",
       "    </tr>\n",
       "    <tr>\n",
       "      <th>75%</th>\n",
       "      <td>5957.448333</td>\n",
       "      <td>7.000000</td>\n",
       "      <td>7.00000</td>\n",
       "      <td>20.000000</td>\n",
       "      <td>28.000000</td>\n",
       "      <td>9.000000</td>\n",
       "      <td>36.496663</td>\n",
       "      <td>161.224249</td>\n",
       "    </tr>\n",
       "    <tr>\n",
       "      <th>max</th>\n",
       "      <td>15204.633333</td>\n",
       "      <td>1798.000000</td>\n",
       "      <td>1499.00000</td>\n",
       "      <td>5797.000000</td>\n",
       "      <td>67.000000</td>\n",
       "      <td>2597.000000</td>\n",
       "      <td>50.000000</td>\n",
       "      <td>82331.000000</td>\n",
       "    </tr>\n",
       "  </tbody>\n",
       "</table>\n",
       "</div>"
      ],
      "text/plain": [
       "       Monthly_Inhand_Salary  Num_Bank_Accounts  Num_Credit_Card  \\\n",
       "count           84998.000000      100000.000000     100000.00000   \n",
       "mean             4194.170850          17.091280         22.47443   \n",
       "std              3183.686167         117.404834        129.05741   \n",
       "min               303.645417          -1.000000          0.00000   \n",
       "25%              1625.568229           3.000000          4.00000   \n",
       "50%              3093.745000           6.000000          5.00000   \n",
       "75%              5957.448333           7.000000          7.00000   \n",
       "max             15204.633333        1798.000000       1499.00000   \n",
       "\n",
       "       Interest_Rate  Delay_from_due_date  Num_Credit_Inquiries  \\\n",
       "count  100000.000000        100000.000000          98035.000000   \n",
       "mean       72.466040            21.068780             27.754251   \n",
       "std       466.422621            14.860104            193.177339   \n",
       "min         1.000000            -5.000000              0.000000   \n",
       "25%         8.000000            10.000000              3.000000   \n",
       "50%        13.000000            18.000000              6.000000   \n",
       "75%        20.000000            28.000000              9.000000   \n",
       "max      5797.000000            67.000000           2597.000000   \n",
       "\n",
       "       Credit_Utilization_Ratio  Total_EMI_per_month  \n",
       "count             100000.000000        100000.000000  \n",
       "mean                  32.285173          1403.118217  \n",
       "std                    5.116875          8306.041270  \n",
       "min                   20.000000             0.000000  \n",
       "25%                   28.052567            30.306660  \n",
       "50%                   32.305784            69.249473  \n",
       "75%                   36.496663           161.224249  \n",
       "max                   50.000000         82331.000000  "
      ]
     },
     "execution_count": 5,
     "metadata": {},
     "output_type": "execute_result"
    }
   ],
   "source": [
    "dataframe.describe()"
   ]
  },
  {
   "cell_type": "code",
   "execution_count": 6,
   "id": "c565d7ac-6c65-4836-8ffd-a84a2f41d567",
   "metadata": {},
   "outputs": [
    {
     "data": {
      "text/plain": [
       "ID                              0\n",
       "Customer_ID                     0\n",
       "Month                           0\n",
       "Name                         9985\n",
       "Age                             0\n",
       "SSN                             0\n",
       "Occupation                      0\n",
       "Annual_Income                   0\n",
       "Monthly_Inhand_Salary       15002\n",
       "Num_Bank_Accounts               0\n",
       "Num_Credit_Card                 0\n",
       "Interest_Rate                   0\n",
       "Num_of_Loan                     0\n",
       "Type_of_Loan                11408\n",
       "Delay_from_due_date             0\n",
       "Num_of_Delayed_Payment       7002\n",
       "Changed_Credit_Limit            0\n",
       "Num_Credit_Inquiries         1965\n",
       "Credit_Mix                      0\n",
       "Outstanding_Debt                0\n",
       "Credit_Utilization_Ratio        0\n",
       "Credit_History_Age           9030\n",
       "Payment_of_Min_Amount           0\n",
       "Total_EMI_per_month             0\n",
       "Amount_invested_monthly      4479\n",
       "Payment_Behaviour               0\n",
       "Monthly_Balance              1200\n",
       "Credit_Score                    0\n",
       "dtype: int64"
      ]
     },
     "execution_count": 6,
     "metadata": {},
     "output_type": "execute_result"
    }
   ],
   "source": [
    "dataframe.isna().sum()"
   ]
  },
  {
   "cell_type": "markdown",
   "id": "01abb561-0194-4d61-8c98-92b9389006b7",
   "metadata": {},
   "source": [
    "# 1. Data Preprocessing for Prediction"
   ]
  },
  {
   "cell_type": "markdown",
   "id": "8a2777c6-5617-4c5a-89a1-59d10f9797ef",
   "metadata": {},
   "source": [
    "## 1.1 Cleaning the Columns"
   ]
  },
  {
   "cell_type": "markdown",
   "id": "b4d6b9a6-3ea8-4857-9b68-e6a29ef5846e",
   "metadata": {},
   "source": [
    "### 1.1.1 Month"
   ]
  },
  {
   "cell_type": "code",
   "execution_count": 7,
   "id": "cc019053-489b-466a-9ac3-f070e765953b",
   "metadata": {},
   "outputs": [],
   "source": [
    "encoded_months = pd.get_dummies(dataframe['Month'], prefix='Month')\n",
    "dataframe = pd.concat([dataframe.drop('Month', axis=1), encoded_months], axis=1)"
   ]
  },
  {
   "cell_type": "markdown",
   "id": "9f321dde-a748-4cf2-9ff6-61fef0bfb07a",
   "metadata": {},
   "source": [
    "### 1.1.2 Age"
   ]
  },
  {
   "cell_type": "code",
   "execution_count": 8,
   "id": "90ccd729-7583-42e2-acb5-64bb871d70a6",
   "metadata": {},
   "outputs": [],
   "source": [
    "def extract_number(s):\n",
    "    return int(re.sub(r\"[^0-9]\", \"\", s))\n",
    "\n",
    "dataframe['Age'] = dataframe['Age'].apply(extract_number)\n",
    "dataframe.loc[dataframe['Age'] > 100, 'Age'] = np.nan\n",
    "medians = dataframe.groupby('Customer_ID')['Age'].transform('median')\n",
    "dataframe['Age'].fillna(medians, inplace=True)"
   ]
  },
  {
   "cell_type": "code",
   "execution_count": 9,
   "id": "64e9fd92-738a-415f-8e54-2eee8da255f2",
   "metadata": {},
   "outputs": [
    {
     "data": {
      "image/png": "[encoded data removed]",
      "text/plain": [
       "<Figure size 640x480 with 1 Axes>"
      ]
     },
     "metadata": {},
     "output_type": "display_data"
    }
   ],
   "source": [
    "dataframe['Age'].plot(kind='box');"
   ]
  },
  {
   "cell_type": "markdown",
   "id": "e37adac5-4728-43f8-8183-95e71629e945",
   "metadata": {},
   "source": [
    "From the above boxplot, few outliers are visible, hence we will drop those age which are greater than ``60``"
   ]
  },
  {
   "cell_type": "code",
   "execution_count": 10,
   "id": "c36559b5-41ef-4a82-b048-999fed48f032",
   "metadata": {},
   "outputs": [],
   "source": [
    "dataframe = dataframe[dataframe['Age'] <= 60]"
   ]
  },
  {
   "cell_type": "markdown",
   "id": "9be72247-60a8-4a5c-8287-5dc66c0dc617",
   "metadata": {},
   "source": [
    "### 1.1.3 Occupation"
   ]
  },
  {
   "cell_type": "code",
   "execution_count": 11,
   "id": "f1ccd465-e168-49f6-9cfd-00f14c840d34",
   "metadata": {},
   "outputs": [],
   "source": [
    "dataframe['Occupation'].replace(\"_______\", \"Not_Specified\", inplace=True)\n",
    "encoded_occupations = pd.get_dummies(dataframe['Occupation'], prefix='Occupation')\n",
    "dataframe = pd.concat([dataframe.drop('Occupation', axis=1), encoded_occupations], axis=1)"
   ]
  },
  {
   "cell_type": "markdown",
   "id": "a73c6008-f84a-4377-aa12-5ceb7bc2ae58",
   "metadata": {},
   "source": [
    "### 1.1.4 Annual_Income"
   ]
  },
  {
   "cell_type": "code",
   "execution_count": 12,
   "id": "54fc3e6e-e2ac-4407-8f62-c17496f6e522",
   "metadata": {},
   "outputs": [],
   "source": [
    "def extract_float(s):\n",
    "    return float(re.sub(r\"[^0-9.]\", \"\", s))\n",
    "\n",
    "dataframe['Annual_Income'] = dataframe['Annual_Income'].apply(extract_float)\n",
    "dataframe['Annual_Income'] = dataframe['Annual_Income'].astype('float64')\n",
    "dataframe['Annual_Income'] = dataframe['Annual_Income'].round(2)\n",
    "\n",
    "# Dropping outliers, some of the annual salaries are around 24 million which is unusual. \n",
    "# There are approx 2000+ outliers. They may not be outliers, but they might affect the \n",
    "# model performance. Hence we decided to drop those rows.\n",
    "\n",
    "# Calculate Q1, Q3, and IQR\n",
    "Q1 = dataframe['Annual_Income'].quantile(0.25)\n",
    "Q3 = dataframe['Annual_Income'].quantile(0.75)\n",
    "IQR = Q3 - Q1\n",
    "\n",
    "# Define bounds for the outliers\n",
    "lower_bound = Q1 - 1.5 * IQR\n",
    "upper_bound = Q3 + 1.5 * IQR\n",
    "\n",
    "# Filter out the outliers\n",
    "dataframe = dataframe[(dataframe['Annual_Income'] >= lower_bound) & (dataframe['Annual_Income'] <= upper_bound)]"
   ]
  },
  {
   "cell_type": "code",
   "execution_count": 13,
   "id": "6183fc14-5de9-44f3-9804-cd72901e1521",
   "metadata": {},
   "outputs": [
    {
     "data": {
      "image/png": "[encoded data removed]",
      "text/plain": [
       "<Figure size 640x480 with 1 Axes>"
      ]
     },
     "metadata": {},
     "output_type": "display_data"
    }
   ],
   "source": [
    "dataframe['Annual_Income'].plot(kind='box');"
   ]
  },
  {
   "cell_type": "markdown",
   "id": "9dd02498-c20b-49fe-b3d6-0c30a9fac15f",
   "metadata": {},
   "source": [
    "```Annual_Income``` values looks better now. According to boxplot still we see few number of outliers. This can be ignored as they are not realatively very high compared to other values."
   ]
  },
  {
   "cell_type": "markdown",
   "id": "39e6594b-90d0-4f0e-86c2-7d78448afc61",
   "metadata": {},
   "source": [
    "### 1.1.5 Monthly_Inhand_Salary"
   ]
  },
  {
   "cell_type": "code",
   "execution_count": 14,
   "id": "ca47e0b3-c0ae-41f0-8f9e-d24326036892",
   "metadata": {},
   "outputs": [
    {
     "data": {
      "image/png": "[encoded data removed]",
      "text/plain": [
       "<Figure size 640x480 with 1 Axes>"
      ]
     },
     "metadata": {},
     "output_type": "display_data"
    }
   ],
   "source": [
    "sns.scatterplot(x='Monthly_Inhand_Salary', y='Annual_Income', data=dataframe);"
   ]
  },
  {
   "cell_type": "markdown",
   "id": "0655a8d4-c0e9-4a57-9d89-202fbd4c5c5d",
   "metadata": {},
   "source": [
    "From the above plot it is evident that there is positive corelation between ``Monthly_Inhand_Salary`` and ``Annual_Income``. Hence we will apply linear regression to fill the missing nan values in the ``Monthly_Inhand_Salary`` column."
   ]
  },
  {
   "cell_type": "code",
   "execution_count": 15,
   "id": "fa0ba21c-0ce4-47d8-847b-057b0d8a60da",
   "metadata": {},
   "outputs": [],
   "source": [
    "not_na = dataframe[dataframe['Monthly_Inhand_Salary'].notna()]\n",
    "are_na = dataframe[dataframe['Monthly_Inhand_Salary'].isna()]\n",
    "\n",
    "# Reshape data and train the model\n",
    "X_train = not_na['Annual_Income'].values.reshape(-1, 1)\n",
    "y_train = not_na['Monthly_Inhand_Salary']\n",
    "\n",
    "lr_model = LinearRegression()\n",
    "lr_model.fit(X_train, y_train)\n",
    "\n",
    "# Predict the missing Monthly_Inhand_Salary values\n",
    "X_test = are_na['Annual_Income'].values.reshape(-1, 1)\n",
    "predicted_values = lr_model.predict(X_test)\n",
    "\n",
    "# Fill the NaN values in the original dataframe with the predicted values\n",
    "dataframe.loc[dataframe['Monthly_Inhand_Salary'].isna(), 'Monthly_Inhand_Salary'] = predicted_values"
   ]
  },
  {
   "cell_type": "markdown",
   "id": "dc3abef2-28f6-48e0-992b-fb1a8f67dd11",
   "metadata": {},
   "source": [
    "### 1.1.6 Num_Bank_Accounts"
   ]
  },
  {
   "cell_type": "code",
   "execution_count": 16,
   "id": "7b536fee-a174-40d8-a2a7-2c4a7c5c5cbc",
   "metadata": {},
   "outputs": [
    {
     "data": {
      "image/png": "[encoded data removed]",
      "text/plain": [
       "<Figure size 640x480 with 1 Axes>"
      ]
     },
     "metadata": {},
     "output_type": "display_data"
    }
   ],
   "source": [
    "dataframe[dataframe['Num_Bank_Accounts'] <= 50]['Num_Bank_Accounts'].plot(kind='box');"
   ]
  },
  {
   "cell_type": "markdown",
   "id": "69bf7831-48c8-4321-97a6-e54b6e6c3abe",
   "metadata": {},
   "source": [
    "Using the above box plot we will consider ``Num_Bank_Accounts > 15`` as an oulier and then try to fit a Median using Customer_ID."
   ]
  },
  {
   "cell_type": "code",
   "execution_count": 17,
   "id": "bebe1173-e196-4a07-91c2-fccb48838995",
   "metadata": {},
   "outputs": [],
   "source": [
    "dataframe.loc[dataframe['Num_Bank_Accounts'] == 0, 'Num_Bank_Accounts'] = 1\n",
    "dataframe.loc[dataframe['Num_Bank_Accounts'] < 0, 'Num_Bank_Accounts'] = np.nan\n",
    "dataframe.loc[dataframe['Num_Bank_Accounts'] > 15, 'Num_Bank_Accounts'] = np.nan\n",
    "medians = dataframe.groupby('Customer_ID')['Num_Bank_Accounts'].transform('median')\n",
    "dataframe['Num_Bank_Accounts'].fillna(medians, inplace=True)"
   ]
  },
  {
   "cell_type": "markdown",
   "id": "ce3e76c8-4a4b-4b2f-a06b-e75625880e54",
   "metadata": {},
   "source": [
    "### 1.1.7 Num_Credit_Card"
   ]
  },
  {
   "cell_type": "code",
   "execution_count": 18,
   "id": "53a88e43-1724-40c0-ae68-19c616dab993",
   "metadata": {},
   "outputs": [
    {
     "data": {
      "image/png": "[encoded data removed]",
      "text/plain": [
       "<Figure size 640x480 with 1 Axes>"
      ]
     },
     "metadata": {},
     "output_type": "display_data"
    }
   ],
   "source": [
    "dataframe[dataframe['Num_Credit_Card'] <= 20]['Num_Credit_Card'].plot(kind='box');"
   ]
  },
  {
   "cell_type": "markdown",
   "id": "91f1b14b-b639-4822-a2e6-38be1e4f0c09",
   "metadata": {},
   "source": [
    "Using the above box plot we will consider ``Num_Credit_Card > 12`` as an oulier and then try to fit a Median using Customer_ID."
   ]
  },
  {
   "cell_type": "code",
   "execution_count": 19,
   "id": "190c7e89-166c-4c6f-98bb-0861370030f9",
   "metadata": {},
   "outputs": [],
   "source": [
    "dataframe.loc[dataframe['Num_Credit_Card'] > 12, 'Num_Credit_Card'] = np.nan\n",
    "medians = dataframe.groupby('Customer_ID')['Num_Credit_Card'].transform('median')\n",
    "dataframe['Num_Credit_Card'].fillna(medians, inplace=True)"
   ]
  },
  {
   "cell_type": "markdown",
   "id": "bb39a3b2-71d1-4b0b-a4b1-cc6c54ff7595",
   "metadata": {},
   "source": [
    "### 1.1.8 Interest_Rate"
   ]
  },
  {
   "cell_type": "code",
   "execution_count": 20,
   "id": "ce5c0058-c840-4c14-8707-667e219f5c62",
   "metadata": {},
   "outputs": [
    {
     "data": {
      "image/png": "[encoded data removed]",
      "text/plain": [
       "<Figure size 640x480 with 1 Axes>"
      ]
     },
     "metadata": {},
     "output_type": "display_data"
    }
   ],
   "source": [
    "dataframe[dataframe['Interest_Rate'] <= 100]['Interest_Rate'].plot(kind='box');"
   ]
  },
  {
   "cell_type": "markdown",
   "id": "d0810410-70f4-4278-8f58-9529d51e4ae5",
   "metadata": {},
   "source": [
    "Using the above box plot we will consider ``Interest_Rate > 35`` as an oulier and then try to fit a Median using Customer_ID."
   ]
  },
  {
   "cell_type": "code",
   "execution_count": 21,
   "id": "78cb715b-05ca-404d-81df-cb1ee4e06fca",
   "metadata": {},
   "outputs": [],
   "source": [
    "dataframe.loc[dataframe['Interest_Rate'] > 35, 'Interest_Rate'] = np.nan\n",
    "medians = dataframe.groupby('Customer_ID')['Interest_Rate'].transform('median')\n",
    "dataframe['Interest_Rate'].fillna(medians, inplace=True)"
   ]
  },
  {
   "cell_type": "markdown",
   "id": "1f869c10-37ea-41ca-8384-3f501b9b7b49",
   "metadata": {},
   "source": [
    "### 1.1.9 Num_of_Loan"
   ]
  },
  {
   "cell_type": "code",
   "execution_count": 22,
   "id": "44419041-0fba-4194-8244-eb6aea70fcab",
   "metadata": {},
   "outputs": [
    {
     "data": {
      "image/png": "[encoded data removed]",
      "text/plain": [
       "<Figure size 640x480 with 1 Axes>"
      ]
     },
     "metadata": {},
     "output_type": "display_data"
    }
   ],
   "source": [
    "dataframe['Num_of_Loan'] = dataframe['Num_of_Loan'].apply(extract_number)\n",
    "dataframe['Num_of_Loan'].plot(kind='box');"
   ]
  },
  {
   "cell_type": "markdown",
   "id": "c2df6c0a-116d-41f0-9313-eea76cc1ed58",
   "metadata": {},
   "source": [
    "Using the above box plot we will consider ``Num_of_Loan > 10`` as an oulier and then try to fit a Median using Customer_ID."
   ]
  },
  {
   "cell_type": "code",
   "execution_count": 23,
   "id": "a4489f6c-7e01-45e4-9080-3099073635f6",
   "metadata": {},
   "outputs": [],
   "source": [
    "dataframe.loc[dataframe['Num_of_Loan'] > 10, 'Num_of_Loan'] = np.nan\n",
    "medians = dataframe.groupby('Customer_ID')['Num_of_Loan'].transform('median')\n",
    "dataframe['Num_of_Loan'] = dataframe['Num_of_Loan'].fillna(medians)"
   ]
  },
  {
   "cell_type": "markdown",
   "id": "2d282540-7b18-4218-898b-e543ef49bb10",
   "metadata": {},
   "source": [
    "### 1.1.10 Type_of_Loan"
   ]
  },
  {
   "cell_type": "code",
   "execution_count": 24,
   "id": "e3203f0d-3b6f-4262-b6d7-271274b6a035",
   "metadata": {},
   "outputs": [],
   "source": [
    "# Find all the Unique types of loan\n",
    "dataframe['Type_of_Loan'].fillna('Not Specified', inplace=True)\n",
    "\n",
    "unique_loans = set()\n",
    "for loan_string in dataframe['Type_of_Loan']:\n",
    "    loans = loan_string.split(',')\n",
    "    loans = [loan.strip() for subloan in loans for loan in subloan.split('and')]\n",
    "    unique_loans.update(loans)\n",
    "unique_loans.remove('')\n",
    "\n",
    "# Create New Columns for the Type of Loan\n",
    "for loan in unique_loans:\n",
    "    dataframe[f'Type_of_Loan_{loan}'] = 0\n",
    "\n",
    "# Fill number of occurrence in each column if the customer has taken a specific type of loan\n",
    "for index, row in dataframe.iterrows():\n",
    "    for loan in unique_loans:\n",
    "        dataframe.at[index, f'Type_of_Loan_{loan}'] = row['Type_of_Loan'].count(loan)\n",
    "\n",
    "# Dropping the original Column\n",
    "dataframe.drop(columns=['Type_of_Loan'], inplace=True)"
   ]
  },
  {
   "cell_type": "markdown",
   "id": "2e04b421-674e-4b70-858b-3c819ed932b3",
   "metadata": {},
   "source": [
    "### 1.1.11 Num_of_Delayed_Payment"
   ]
  },
  {
   "cell_type": "code",
   "execution_count": 25,
   "id": "bed0330f-2a1e-4d06-83c5-3a627439be73",
   "metadata": {},
   "outputs": [
    {
     "data": {
      "image/png": "[encoded data removed]",
      "text/plain": [
       "<Figure size 640x480 with 1 Axes>"
      ]
     },
     "metadata": {},
     "output_type": "display_data"
    }
   ],
   "source": [
    "def extract_number_with_NaNs(s):\n",
    "    if pd.isna(s):\n",
    "        return s\n",
    "\n",
    "    return int(re.sub(r\"[^0-9]\", \"\", s))\n",
    "\n",
    "dataframe['Num_of_Delayed_Payment'] = dataframe['Num_of_Delayed_Payment'].apply(extract_number_with_NaNs)\n",
    "dataframe[dataframe['Num_of_Delayed_Payment'] <= 50]['Num_of_Delayed_Payment'].plot(kind='box');"
   ]
  },
  {
   "cell_type": "markdown",
   "id": "009c2329-35d9-493c-bfd6-1cb640787a32",
   "metadata": {},
   "source": [
    "Using the above box plot we will consider ``Num_of_Delayed_Payment > 30`` as an oulier and then try to fit a Median using Customer_ID."
   ]
  },
  {
   "cell_type": "code",
   "execution_count": 26,
   "id": "e792cc3c-87dd-49fc-9249-aed2694f39cb",
   "metadata": {},
   "outputs": [],
   "source": [
    "dataframe.loc[dataframe['Num_of_Delayed_Payment'] > 30, 'Num_of_Delayed_Payment'] = np.nan\n",
    "medians = dataframe.groupby('Customer_ID')['Num_of_Delayed_Payment'].transform('median')\n",
    "dataframe['Num_of_Delayed_Payment'] = dataframe['Num_of_Delayed_Payment'].fillna(medians)"
   ]
  },
  {
   "cell_type": "markdown",
   "id": "2b88008d-35b5-4f72-8f08-c58f37cfc330",
   "metadata": {},
   "source": [
    "### 1.1.12 Changed_Credit_Limit"
   ]
  },
  {
   "cell_type": "code",
   "execution_count": 27,
   "id": "61e4bfcc-e97a-4e42-b7fc-771eebadaf0e",
   "metadata": {},
   "outputs": [],
   "source": [
    "dataframe['Changed_Credit_Limit'].replace(\"_\", 0.0, inplace=True)\n",
    "dataframe['Changed_Credit_Limit'] = dataframe['Changed_Credit_Limit'].astype('float32')"
   ]
  },
  {
   "cell_type": "markdown",
   "id": "0278a78e-daf2-4b85-b8ea-35ad4b918da5",
   "metadata": {},
   "source": [
    "### 1.1.13 Num_Credit_Inquiries"
   ]
  },
  {
   "cell_type": "code",
   "execution_count": 28,
   "id": "e62a8fe5-ee8c-4a52-bac1-a99d08e3f09e",
   "metadata": {},
   "outputs": [
    {
     "data": {
      "image/png": "[encoded data removed]",
      "text/plain": [
       "<Figure size 640x480 with 1 Axes>"
      ]
     },
     "metadata": {},
     "output_type": "display_data"
    }
   ],
   "source": [
    "dataframe[dataframe['Num_Credit_Inquiries'] < 50]['Num_Credit_Inquiries'].plot(kind='box');"
   ]
  },
  {
   "cell_type": "code",
   "execution_count": 29,
   "id": "8f995f5c-5946-4df4-aa27-e4146f79bb16",
   "metadata": {},
   "outputs": [],
   "source": [
    "dataframe.loc[dataframe['Num_Credit_Inquiries'] > 20, 'Num_Credit_Inquiries'] = np.nan\n",
    "medians = dataframe.groupby('Customer_ID')['Num_Credit_Inquiries'].transform('median')\n",
    "dataframe['Num_Credit_Inquiries'] = dataframe['Num_Credit_Inquiries'].fillna(medians)"
   ]
  },
  {
   "cell_type": "markdown",
   "id": "3333bb61-2a61-4041-87fe-32e298c6bd13",
   "metadata": {},
   "source": [
    "### 1.1.14 Credit_Mix"
   ]
  },
  {
   "cell_type": "code",
   "execution_count": 30,
   "id": "54e257c4-a310-459d-88bb-99c4c1b1e974",
   "metadata": {},
   "outputs": [],
   "source": [
    "credit_mix_map = {'_': np.nan, 'Bad': 0, 'Standard': 1, 'Good': 2}\n",
    "dataframe['Credit_Mix'] = dataframe['Credit_Mix'].map(credit_mix_map)\n",
    "medians = dataframe.groupby('Customer_ID')['Credit_Mix'].transform('median')\n",
    "dataframe['Credit_Mix'] = dataframe['Credit_Mix'].fillna(medians)"
   ]
  },
  {
   "cell_type": "markdown",
   "id": "eaaf3e8e-92d2-49f1-865b-422e7863fcd4",
   "metadata": {},
   "source": [
    "### 1.1.15 Outstanding_Debt"
   ]
  },
  {
   "cell_type": "code",
   "execution_count": 31,
   "id": "2ea681ef-611f-4f30-a750-30dd869d1b9a",
   "metadata": {},
   "outputs": [],
   "source": [
    "dataframe['Outstanding_Debt'] = dataframe['Outstanding_Debt'].apply(extract_float)"
   ]
  },
  {
   "cell_type": "markdown",
   "id": "9adb9be2-e46b-4490-9f4e-34e91c5e5fc5",
   "metadata": {},
   "source": [
    "### 1.1.16 Credit_History_Age"
   ]
  },
  {
   "cell_type": "code",
   "execution_count": 32,
   "id": "b4e2de05-ee79-4c79-93bb-c72bab25ab43",
   "metadata": {},
   "outputs": [],
   "source": [
    "def extract_months(value):\n",
    "    if pd.isna(value):\n",
    "        return value\n",
    "    match = re.match(r'(\\d+)\\s*Years\\s*and\\s*(\\d+)\\s*Months', value)\n",
    "    if match:\n",
    "        years = int(match.group(1))\n",
    "        months = int(match.group(2))\n",
    "        return years * 12 + months\n",
    "    return value\n",
    "\n",
    "dataframe['Credit_History_Age'] = dataframe['Credit_History_Age'].apply(extract_months)\n",
    "medians = dataframe.groupby('Customer_ID')['Credit_History_Age'].transform('median')\n",
    "dataframe['Credit_History_Age'] = dataframe['Credit_History_Age'].fillna(medians)"
   ]
  },
  {
   "cell_type": "markdown",
   "id": "d0056250-aefd-4cd4-884e-aa9f6adcf402",
   "metadata": {},
   "source": [
    "### 1.1.17 Payment_of_Min_Amount"
   ]
  },
  {
   "cell_type": "markdown",
   "id": "1f2b49e1-008f-4b7f-b428-ab7a3e816083",
   "metadata": {},
   "source": [
    "Payment_of_Min_Amount column has 3-Distinct values ``Yes``, ``No`` & ``NM``. We are assuming that ``NM`` means ``Not Mentioned``. So we will map the values of ``No to 0``, ``NM to 1`` & ``Yes to 2``."
   ]
  },
  {
   "cell_type": "code",
   "execution_count": 33,
   "id": "f19224dd-fa0c-4c5f-b564-4b89b908b162",
   "metadata": {},
   "outputs": [],
   "source": [
    "payment_min_amt_map = {'No': 0, 'NM': 1, 'Yes': 2}\n",
    "dataframe['Payment_of_Min_Amount'] = dataframe['Payment_of_Min_Amount'].map(payment_min_amt_map)"
   ]
  },
  {
   "cell_type": "markdown",
   "id": "6f4b86fe-ed6e-4f1e-b503-7ef7ebce514d",
   "metadata": {},
   "source": [
    "### 1.1.18 Total_EMI_per_month"
   ]
  },
  {
   "cell_type": "code",
   "execution_count": 34,
   "id": "2a5215f3-c107-494d-a82e-a643a07bff04",
   "metadata": {},
   "outputs": [
    {
     "data": {
      "image/png": "[encoded data removed]",
      "text/plain": [
       "<Figure size 640x480 with 1 Axes>"
      ]
     },
     "metadata": {},
     "output_type": "display_data"
    }
   ],
   "source": [
    "dataframe['Total_EMI_per_month'] = dataframe['Total_EMI_per_month'].round(2)\n",
    "dataframe[dataframe['Total_EMI_per_month'] < 5000]['Total_EMI_per_month'].plot(kind='box');"
   ]
  },
  {
   "cell_type": "markdown",
   "id": "a05a8ce0-e0bf-467d-be47-fe8b3c998400",
   "metadata": {},
   "source": [
    "This columns variation is very large. There are some customer who have actually make some high payment. But also we believe there are some values are very unusual and we need to replace them with the Median of the Customer Total_EMI_per_month. We will decide the maximum value of the Total_EMI_per_month using Mean and Standard Deviation.\n",
    "$$\n",
    "\\text{Upper Bound} = \\mu + 3 \\times \\sigma\n",
    "$$"
   ]
  },
  {
   "cell_type": "code",
   "execution_count": 35,
   "id": "adccf7b7-7568-4c84-b5b1-055503b1e745",
   "metadata": {},
   "outputs": [],
   "source": [
    "mean = dataframe['Total_EMI_per_month'].mean()\n",
    "std = dataframe['Total_EMI_per_month'].std()\n",
    "upper_bound = mean + 3*std\n",
    "\n",
    "dataframe.loc[dataframe['Total_EMI_per_month'] > upper_bound, 'Total_EMI_per_month'] = np.nan\n",
    "medians = dataframe.groupby('Customer_ID')['Total_EMI_per_month'].transform('median')\n",
    "dataframe['Total_EMI_per_month'] = dataframe['Total_EMI_per_month'].fillna(medians)"
   ]
  },
  {
   "cell_type": "markdown",
   "id": "5732a734-7f86-491a-a4e9-9238644f458b",
   "metadata": {},
   "source": [
    "### 1.1.20 Amount_invested_monthly"
   ]
  },
  {
   "cell_type": "code",
   "execution_count": 36,
   "id": "6d5de75b-b5c1-4d29-9ef1-fe025f44c6d5",
   "metadata": {},
   "outputs": [],
   "source": [
    "def extract_float_with_NaNs(s):\n",
    "    if pd.isna(s):\n",
    "        return s\n",
    "    \n",
    "    return float(re.sub(r\"[^0-9.]\", \"\", s))\n",
    "\n",
    "dataframe['Amount_invested_monthly'] = dataframe['Amount_invested_monthly'].apply(extract_float_with_NaNs)"
   ]
  },
  {
   "cell_type": "code",
   "execution_count": 37,
   "id": "625ef67b-fbd5-43c9-af3b-2f6d5ae32297",
   "metadata": {},
   "outputs": [
    {
     "data": {
      "image/png": "[encoded data removed]",
      "text/plain": [
       "<Figure size 640x480 with 1 Axes>"
      ]
     },
     "metadata": {},
     "output_type": "display_data"
    }
   ],
   "source": [
    "dataframe[dataframe['Amount_invested_monthly'] < 4000]['Amount_invested_monthly'].plot(kind='box');"
   ]
  },
  {
   "cell_type": "markdown",
   "id": "ab57d073-2f0b-4162-afc3-cea513257e51",
   "metadata": {},
   "source": [
    "Using the above box plot we will consider ``Amount_invested_monthly > 1750`` as an oulier and then try to fit a Mean using Customer_ID."
   ]
  },
  {
   "cell_type": "code",
   "execution_count": 38,
   "id": "ec26cca9-e623-44a2-b4c9-917e9c203b5f",
   "metadata": {},
   "outputs": [],
   "source": [
    "dataframe.loc[dataframe['Amount_invested_monthly'] > 1750, 'Amount_invested_monthly'] = np.nan\n",
    "means = dataframe.groupby('Customer_ID')['Amount_invested_monthly'].transform('mean')\n",
    "dataframe['Amount_invested_monthly'] = dataframe['Amount_invested_monthly'].fillna(means)\n",
    "dataframe['Amount_invested_monthly'] = dataframe['Amount_invested_monthly'].round(2)"
   ]
  },
  {
   "cell_type": "markdown",
   "id": "fad47bf4-027c-4124-b0b5-6b313980c0b5",
   "metadata": {},
   "source": [
    "### 1.1.21 Payment_Behaviour"
   ]
  },
  {
   "cell_type": "code",
   "execution_count": 39,
   "id": "98fae447-4e2b-44f0-8db1-1b9189588947",
   "metadata": {},
   "outputs": [],
   "source": [
    "dataframe['Payment_Behaviour'].replace(\"!@9#%8\", \"Not_Specified\", inplace=True)\n",
    "encoded_payment_behaviours = pd.get_dummies(dataframe['Payment_Behaviour'], prefix='PB')\n",
    "dataframe = pd.concat([dataframe.drop('Payment_Behaviour', axis=1), encoded_payment_behaviours], axis=1)"
   ]
  },
  {
   "cell_type": "markdown",
   "id": "c8710484-2910-43bc-a6f4-b4e7188dc182",
   "metadata": {},
   "source": [
    "### 1.1.22 Monthly_Balance"
   ]
  },
  {
   "cell_type": "code",
   "execution_count": 40,
   "id": "ebcc7c8c-c0bf-4596-bea6-86d15fda6f1f",
   "metadata": {},
   "outputs": [],
   "source": [
    "# There was only one bad value in this Column\n",
    "dataframe['Monthly_Balance'].replace(\"__-333333333333333333333333333__\", np.nan, inplace=True)\n",
    "\n",
    "dataframe['Monthly_Balance'] = dataframe['Monthly_Balance'].astype('float64')\n",
    "means = dataframe.groupby('Customer_ID')['Monthly_Balance'].transform('mean')\n",
    "dataframe['Monthly_Balance'] = dataframe['Monthly_Balance'].fillna(means)\n",
    "dataframe['Monthly_Balance'] = dataframe['Monthly_Balance'].round(2)"
   ]
  },
  {
   "cell_type": "markdown",
   "id": "5306f89c-58ff-41be-b44e-65e272ca0e26",
   "metadata": {},
   "source": [
    "### 1.1.23 Credit_Score"
   ]
  },
  {
   "cell_type": "code",
   "execution_count": 41,
   "id": "92ffc09b-119d-4f2f-8073-9b03674a2cf2",
   "metadata": {},
   "outputs": [],
   "source": [
    "credit_score_map = {'Poor': 0, 'Standard': 1, 'Good': 2}\n",
    "dataframe['Credit_Score'] = dataframe['Credit_Score'].map(credit_score_map)"
   ]
  },
  {
   "cell_type": "markdown",
   "id": "758610fd-2b58-4d61-89d0-f4ce4d86e707",
   "metadata": {},
   "source": [
    "### 1.1.24 Dropping Unnecessary Columns"
   ]
  },
  {
   "cell_type": "code",
   "execution_count": 42,
   "id": "9e8274c3-ea0c-4598-8600-963737c462fa",
   "metadata": {},
   "outputs": [],
   "source": [
    "dataframe.drop(columns=['ID', 'Customer_ID', 'Name', 'SSN'], inplace=True)"
   ]
  },
  {
   "cell_type": "markdown",
   "id": "57e3e80d-f88d-4906-9d4b-da1710cb99e4",
   "metadata": {},
   "source": [
    "### A look at our data after feature engineering"
   ]
  },
  {
   "cell_type": "code",
   "execution_count": 43,
   "id": "4a75abb7-c9f4-4997-8a82-d9834266c889",
   "metadata": {},
   "outputs": [
    {
     "name": "stdout",
     "output_type": "stream",
     "text": [
      "<class 'pandas.core.frame.DataFrame'>\n",
      "Index: 97212 entries, 0 to 99999\n",
      "Data columns (total 60 columns):\n",
      " #   Column                                Non-Null Count  Dtype  \n",
      "---  ------                                --------------  -----  \n",
      " 0   Age                                   97212 non-null  float64\n",
      " 1   Annual_Income                         97212 non-null  float64\n",
      " 2   Monthly_Inhand_Salary                 97212 non-null  float64\n",
      " 3   Num_Bank_Accounts                     97212 non-null  float64\n",
      " 4   Num_Credit_Card                       97212 non-null  float64\n",
      " 5   Interest_Rate                         97212 non-null  float64\n",
      " 6   Num_of_Loan                           97212 non-null  float64\n",
      " 7   Delay_from_due_date                   97212 non-null  int64  \n",
      " 8   Num_of_Delayed_Payment                97212 non-null  float64\n",
      " 9   Changed_Credit_Limit                  97212 non-null  float32\n",
      " 10  Num_Credit_Inquiries                  97212 non-null  float64\n",
      " 11  Credit_Mix                            97212 non-null  float64\n",
      " 12  Outstanding_Debt                      97212 non-null  float64\n",
      " 13  Credit_Utilization_Ratio              97212 non-null  float64\n",
      " 14  Credit_History_Age                    97212 non-null  float64\n",
      " 15  Payment_of_Min_Amount                 97212 non-null  int64  \n",
      " 16  Total_EMI_per_month                   97212 non-null  float64\n",
      " 17  Amount_invested_monthly               97212 non-null  float64\n",
      " 18  Monthly_Balance                       97212 non-null  float64\n",
      " 19  Credit_Score                          97212 non-null  int64  \n",
      " 20  Month_April                           97212 non-null  bool   \n",
      " 21  Month_August                          97212 non-null  bool   \n",
      " 22  Month_February                        97212 non-null  bool   \n",
      " 23  Month_January                         97212 non-null  bool   \n",
      " 24  Month_July                            97212 non-null  bool   \n",
      " 25  Month_June                            97212 non-null  bool   \n",
      " 26  Month_March                           97212 non-null  bool   \n",
      " 27  Month_May                             97212 non-null  bool   \n",
      " 28  Occupation_Accountant                 97212 non-null  bool   \n",
      " 29  Occupation_Architect                  97212 non-null  bool   \n",
      " 30  Occupation_Developer                  97212 non-null  bool   \n",
      " 31  Occupation_Doctor                     97212 non-null  bool   \n",
      " 32  Occupation_Engineer                   97212 non-null  bool   \n",
      " 33  Occupation_Entrepreneur               97212 non-null  bool   \n",
      " 34  Occupation_Journalist                 97212 non-null  bool   \n",
      " 35  Occupation_Lawyer                     97212 non-null  bool   \n",
      " 36  Occupation_Manager                    97212 non-null  bool   \n",
      " 37  Occupation_Mechanic                   97212 non-null  bool   \n",
      " 38  Occupation_Media_Manager              97212 non-null  bool   \n",
      " 39  Occupation_Musician                   97212 non-null  bool   \n",
      " 40  Occupation_Not_Specified              97212 non-null  bool   \n",
      " 41  Occupation_Scientist                  97212 non-null  bool   \n",
      " 42  Occupation_Teacher                    97212 non-null  bool   \n",
      " 43  Occupation_Writer                     97212 non-null  bool   \n",
      " 44  Type_of_Loan_Credit-Builder Loan      97212 non-null  int64  \n",
      " 45  Type_of_Loan_Payday Loan              97212 non-null  int64  \n",
      " 46  Type_of_Loan_Debt Consolidation Loan  97212 non-null  int64  \n",
      " 47  Type_of_Loan_Mortgage Loan            97212 non-null  int64  \n",
      " 48  Type_of_Loan_Home Equity Loan         97212 non-null  int64  \n",
      " 49  Type_of_Loan_Student Loan             97212 non-null  int64  \n",
      " 50  Type_of_Loan_Personal Loan            97212 non-null  int64  \n",
      " 51  Type_of_Loan_Not Specified            97212 non-null  int64  \n",
      " 52  Type_of_Loan_Auto Loan                97212 non-null  int64  \n",
      " 53  PB_High_spent_Large_value_payments    97212 non-null  bool   \n",
      " 54  PB_High_spent_Medium_value_payments   97212 non-null  bool   \n",
      " 55  PB_High_spent_Small_value_payments    97212 non-null  bool   \n",
      " 56  PB_Low_spent_Large_value_payments     97212 non-null  bool   \n",
      " 57  PB_Low_spent_Medium_value_payments    97212 non-null  bool   \n",
      " 58  PB_Low_spent_Small_value_payments     97212 non-null  bool   \n",
      " 59  PB_Not_Specified                      97212 non-null  bool   \n",
      "dtypes: bool(31), float32(1), float64(16), int64(12)\n",
      "memory usage: 26.8 MB\n"
     ]
    }
   ],
   "source": [
    "dataframe.info()"
   ]
  },
  {
   "cell_type": "code",
   "execution_count": 44,
   "id": "51749fb5-c5c5-4e6f-be06-b14992c15742",
   "metadata": {},
   "outputs": [],
   "source": [
    "dataframe.to_csv('Data/After_Feature_Engineering.csv', index=False)"
   ]
  }
 ],
 "metadata": {
  "kernelspec": {
   "display_name": "Python 3 (ipykernel)",
   "language": "python",
   "name": "python3"
  },
  "language_info": {
   "codemirror_mode": {
    "name": "ipython",
    "version": 3
   },
   "file_extension": ".py",
   "mimetype": "text/x-python",
   "name": "python",
   "nbconvert_exporter": "python",
   "pygments_lexer": "ipython3",
   "version": "3.10.0"
  }
 },
 "nbformat": 4,
 "nbformat_minor": 5
}
